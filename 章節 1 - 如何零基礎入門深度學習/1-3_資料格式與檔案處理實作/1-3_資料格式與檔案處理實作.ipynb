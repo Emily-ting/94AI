{
 "cells": [
  {
   "cell_type": "markdown",
   "metadata": {
    "colab_type": "text",
    "id": "-Mp_USHxCDAF"
   },
   "source": [
    "## 章節 1 - 如何零基礎入門深度學習"
   ]
  },
  {
   "cell_type": "markdown",
   "metadata": {
    "colab_type": "text",
    "id": "ZtLrLIw7CFyD"
   },
   "source": [
    "# <font color='LIGHTGREEN'>單元 3 - 資料格式與檔案處理實作</font>"
   ]
  },
  {
   "cell_type": "markdown",
   "metadata": {
    "colab_type": "text",
    "id": "0IdRpdhiCPcb"
   },
   "source": [
    "### **老師的話：`新手上路`選對`學習環境`很重要**\n",
    "### 許多剛入門的朋友，安裝python相關環境就很辛苦，安裝耗時不說，常常為了`模組套件`與`版本不同`或`升級`，程式就是執行不成功，最後環境要砍掉重練...\n",
    "### 其實`學習環境`攸關`資料與檔案`是否容易管理與操作，課程學習環境`Jupyter Notebook`容易上手，就讓我們一起新手上路囉~"
   ]
  },
  {
   "cell_type": "markdown",
   "metadata": {
    "colab_type": "text",
    "id": "ZCpVlikO7Aw_"
   },
   "source": [
    "![Files](https://upload.wikimedia.org/wikipedia/commons/thumb/7/7e/Schlagwortkatalog.jpg/250px-Schlagwortkatalog.jpg?&h=350)\n",
    "![alt text](https://images.pexels.com/photos/572056/pexels-photo-572056.jpeg?h=210)\n",
    "\n",
    "source link:https://www.pexels.com/"
   ]
  },
  {
   "cell_type": "markdown",
   "metadata": {
    "colab_type": "text",
    "id": "9Sf_PcSrElFk"
   },
   "source": [
    "## <font color='SKYBLUE'>本單元課程大綱:</font>\n",
    "### 1-3-1.Jupyter 筆記本\n",
    "### 1-3-2.學習環境之檔案管理\n",
    "### 1-3-3.python資料格式"
   ]
  },
  {
   "cell_type": "markdown",
   "metadata": {
    "colab_type": "text",
    "id": "tY7uqh2nHHSH"
   },
   "source": [
    "## 1-3-1.Jupyter 筆記本"
   ]
  },
  {
   "cell_type": "markdown",
   "metadata": {
    "colab_type": "text",
    "id": "KqJLWtj1bHS2"
   },
   "source": [
    "### `Colab`是`Jupyter`為基底的python平台，可以先想像成瀏覽器，只要能上網就能學習，而[Jupyter.org](https://jupyter.org/)是一個非營利組織，免費開源軟體，屬於開放標準，目前多個平台都有提供免費的jupyter環境\n",
    "### 所以熟練`jupyter+python`成為帶著走的能力，不會被套裝軟體或是某個平台綁住，當然如果未來同學的`專案商品化`，需要`雲端佈署`，也可以付費租用雲端平台。\n",
    "### `自己電腦安裝`\n",
    "### jupyter https://jupyter.org/install\n",
    "### Anaconda https://anaconda.org/anaconda/jupyter\n",
    "### `雲端平台:`\n",
    "### Binder https://jupyter.org/try\n",
    "### CoCalc https://cocalc.com/doc/jupyter-notebook.html\n",
    "### Kaggle https://www.kaggle.com/notebooks\n",
    "### Azure https://notebooks.azure.com/\n",
    "### Colab https://colab.research.google.com/\n",
    "### Datalore https://datalore.io/\n",
    "### Amazon https://docs.aws.amazon.com/zh_tw/dlami/latest/devguide/tutorial-jupyter.html"
   ]
  },
  {
   "cell_type": "markdown",
   "metadata": {
    "colab_type": "text",
    "id": "52ZJVzpGz6L1"
   },
   "source": [
    "### 🔔提醒 colab 的檔案隨時有<font color='GOLD'>可能消失</font>，因為是VM虛擬電腦\n",
    "### 12小時、網路、當機...各種不確定因素，執行後的檔案、訓練出的模型要記得隨時備份\n",
    "### 課程1-4節有解方，不要轉台喔~"
   ]
  },
  {
   "cell_type": "markdown",
   "metadata": {
    "colab_type": "text",
    "id": "7orsIWg0l_jM"
   },
   "source": [
    "### 首先這裡的電腦作業系統、不是Windows是Linux\n",
    "### 執行Linux Ubuntu 命令前要加\"!\"，python指令不需要!"
   ]
  },
  {
   "cell_type": "code",
   "execution_count": 0,
   "metadata": {
    "colab": {
     "base_uri": "https://localhost:8080/",
     "height": 35
    },
    "colab_type": "code",
    "executionInfo": {
     "elapsed": 8262,
     "status": "ok",
     "timestamp": 1583558271343,
     "user": {
      "displayName": "94AI Just AI",
      "photoUrl": "https://lh3.googleusercontent.com/a-/AOh14GhCsKODnCW8m6xZA2AWzxuXAMo6pmFnu_fp8yMB=s64",
      "userId": "12056520848872672848"
     },
     "user_tz": -480
    },
    "id": "n8C7VKu3hLq1",
    "outputId": "dc6c2d1f-811e-4a52-ec9b-9135bd169717"
   },
   "outputs": [
    {
     "name": "stdout",
     "output_type": "stream",
     "text": [
      "DISTRIB_DESCRIPTION=\"Ubuntu 18.04.3 LTS\"\n"
     ]
    }
   ],
   "source": [
    "#1301 作業系統OS重要功能之一，就是檔案管理\n",
    "# cat 顯示檔案內容 \n",
    "!cat /etc/*-release | grep \"DISTRIB_DESCRIPTION\""
   ]
  },
  {
   "cell_type": "markdown",
   "metadata": {
    "colab_type": "text",
    "id": "3ZBNSr468dJn"
   },
   "source": [
    "### Colab常用功能\n",
    "\n",
    "\n",
    "### 1.  筆記本下載 檔案`File` > `Download .ipynb`\n",
    "### 2.  開啟GPU `Edit` > `Notebook settings`\n",
    "### 3.  萬一當機 `Runtime` > `Restart runtime..`\n",
    "### 4.  更多設定 `Tools` > `Settings..` or 右上⚙ 變更主題\n",
    "### 5.  +Code 增加程式單元格\n",
    "### 6.  +Text 增加文本單元格，紀錄學習筆記\n",
    "\n",
    "\n",
    "\n",
    "\n"
   ]
  },
  {
   "cell_type": "markdown",
   "metadata": {
    "colab_type": "text",
    "id": "4qaoFhWcb5Qw"
   },
   "source": [
    "123\n"
   ]
  },
  {
   "cell_type": "markdown",
   "metadata": {
    "colab_type": "text",
    "id": "DJy2X8RWZhWk"
   },
   "source": [
    "## 1-3-2.學習環境之檔案管理"
   ]
  },
  {
   "cell_type": "markdown",
   "metadata": {
    "colab_type": "text",
    "id": "WIKp19-5yv7m"
   },
   "source": [
    "### 🚙出發前，先定位~工作資料夾(所在目錄、現在的資料夾...都是同義)"
   ]
  },
  {
   "cell_type": "code",
   "execution_count": 0,
   "metadata": {
    "colab": {
     "base_uri": "https://localhost:8080/",
     "height": 35
    },
    "colab_type": "code",
    "executionInfo": {
     "elapsed": 7851,
     "status": "ok",
     "timestamp": 1583558669591,
     "user": {
      "displayName": "94AI Just AI",
      "photoUrl": "https://lh3.googleusercontent.com/a-/AOh14GhCsKODnCW8m6xZA2AWzxuXAMo6pmFnu_fp8yMB=s64",
      "userId": "12056520848872672848"
     },
     "user_tz": -480
    },
    "id": "Yy5cDFOiHCDV",
    "outputId": "c64ac79f-8ead-472b-de26-c3a1f7f7eeb8"
   },
   "outputs": [
    {
     "name": "stdout",
     "output_type": "stream",
     "text": [
      "/content\n"
     ]
    }
   ],
   "source": [
    "#1302 顯示目前位置(在哪一個資料夾)\n",
    "!pwd"
   ]
  },
  {
   "cell_type": "code",
   "execution_count": 5,
   "metadata": {
    "colab": {
     "base_uri": "https://localhost:8080/",
     "height": 35
    },
    "colab_type": "code",
    "executionInfo": {
     "elapsed": 6992,
     "status": "ok",
     "timestamp": 1583558682968,
     "user": {
      "displayName": "94AI Just AI",
      "photoUrl": "https://lh3.googleusercontent.com/a-/AOh14GhCsKODnCW8m6xZA2AWzxuXAMo6pmFnu_fp8yMB=s64",
      "userId": "12056520848872672848"
     },
     "user_tz": -480
    },
    "id": "N-oI7FyEhyiT",
    "outputId": "1d2b275f-f06f-490d-de85-1da2516b9de0"
   },
   "outputs": [
    {
     "name": "stdout",
     "output_type": "stream",
     "text": [
      "1-3_資料格式與檔案處理實作.ipynb\r\n"
     ]
    }
   ],
   "source": [
    "#1302a 顯示資料夾內容\n",
    "!ls"
   ]
  },
  {
   "cell_type": "markdown",
   "metadata": {
    "colab_type": "text",
    "id": "8gzz5fxxzN7V"
   },
   "source": [
    "### 變更所在目錄"
   ]
  },
  {
   "cell_type": "code",
   "execution_count": 0,
   "metadata": {
    "colab": {
     "base_uri": "https://localhost:8080/",
     "height": 87
    },
    "colab_type": "code",
    "executionInfo": {
     "elapsed": 8033,
     "status": "ok",
     "timestamp": 1583558696702,
     "user": {
      "displayName": "94AI Just AI",
      "photoUrl": "https://lh3.googleusercontent.com/a-/AOh14GhCsKODnCW8m6xZA2AWzxuXAMo6pmFnu_fp8yMB=s64",
      "userId": "12056520848872672848"
     },
     "user_tz": -480
    },
    "id": "vLbBRYuvRIcM",
    "outputId": "9799bf67-8595-4bf5-bafd-4a7700a8296c"
   },
   "outputs": [
    {
     "name": "stdout",
     "output_type": "stream",
     "text": [
      "/content/sample_data\n",
      "anscombe.json\t\t      mnist_test.csv\n",
      "california_housing_test.csv   mnist_train_small.csv\n",
      "california_housing_train.csv  README.md\n"
     ]
    }
   ],
   "source": [
    "#1303  絕對路徑\n",
    "%cd \"/content/sample_data\" \n",
    "#%cd \"sample_data\" #相對路徑等熟悉有把握再使用\n",
    "!ls"
   ]
  },
  {
   "cell_type": "markdown",
   "metadata": {
    "colab_type": "text",
    "id": "j2N_LLiYhwKU"
   },
   "source": [
    "### 練習1.複製絕對路徑 `Copy path`\n",
    "「絕對路徑」是唯一的位置(住家地址)，並不會隨著現在目錄的改變而改變。"
   ]
  },
  {
   "cell_type": "code",
   "execution_count": 0,
   "metadata": {
    "colab": {
     "base_uri": "https://localhost:8080/",
     "height": 52
    },
    "colab_type": "code",
    "executionInfo": {
     "elapsed": 1561,
     "status": "ok",
     "timestamp": 1583558931765,
     "user": {
      "displayName": "94AI Just AI",
      "photoUrl": "https://lh3.googleusercontent.com/a-/AOh14GhCsKODnCW8m6xZA2AWzxuXAMo6pmFnu_fp8yMB=s64",
      "userId": "12056520848872672848"
     },
     "user_tz": -480
    },
    "id": "kvLAOEo8iG4K",
    "outputId": "3826c16b-80c2-46e2-a779-b695fb69e4a2"
   },
   "outputs": [
    {
     "name": "stdout",
     "output_type": "stream",
     "text": [
      "/content/sample_data\n",
      "/content/sample_data\n"
     ]
    }
   ],
   "source": [
    "#1303a 使用copy path功能，操作練習複製絕對路徑\n",
    "%cd \"/content/sample_data\"\n",
    "%cd \"/content/sample_data\""
   ]
  },
  {
   "cell_type": "markdown",
   "metadata": {
    "colab_type": "text",
    "id": "1V5s4JewtSwG"
   },
   "source": [
    "### `pandas`讀取`csv`檔案"
   ]
  },
  {
   "cell_type": "code",
   "execution_count": 2,
   "metadata": {},
   "outputs": [
    {
     "name": "stdout",
     "output_type": "stream",
     "text": [
      "Collecting pandas\n",
      "  Downloading pandas-1.1.5-cp37-cp37m-manylinux1_x86_64.whl (9.5 MB)\n",
      "\u001b[K     |████████████████████████████████| 9.5 MB 4.4 MB/s eta 0:00:01\n",
      "\u001b[?25hCollecting pytz>=2017.2\n",
      "  Downloading pytz-2020.4-py2.py3-none-any.whl (509 kB)\n",
      "\u001b[K     |████████████████████████████████| 509 kB 45.3 MB/s eta 0:00:01\n",
      "\u001b[?25hRequirement already satisfied: python-dateutil>=2.7.3 in /srv/conda/envs/notebook/lib/python3.7/site-packages (from pandas) (2.8.1)\n",
      "Collecting numpy>=1.15.4\n",
      "  Downloading numpy-1.19.4-cp37-cp37m-manylinux2010_x86_64.whl (14.5 MB)\n",
      "\u001b[K     |████████████████████████████████| 14.5 MB 34.9 MB/s eta 0:00:01\n",
      "\u001b[?25hRequirement already satisfied: six>=1.5 in /srv/conda/envs/notebook/lib/python3.7/site-packages (from python-dateutil>=2.7.3->pandas) (1.15.0)\n",
      "Installing collected packages: pytz, numpy, pandas\n",
      "Successfully installed numpy-1.19.4 pandas-1.1.5 pytz-2020.4\n",
      "Note: you may need to restart the kernel to use updated packages.\n"
     ]
    }
   ],
   "source": [
    "pip install pandas"
   ]
  },
  {
   "cell_type": "code",
   "execution_count": 21,
   "metadata": {},
   "outputs": [
    {
     "name": "stdout",
     "output_type": "stream",
     "text": [
      "excel_output.xlsx  test.csv  train.csv\r\n"
     ]
    }
   ],
   "source": [
    "# %cd \"sales\"\n",
    "!ls"
   ]
  },
  {
   "cell_type": "code",
   "execution_count": 16,
   "metadata": {
    "colab": {},
    "colab_type": "code",
    "id": "orN_gKdUHrDN"
   },
   "outputs": [],
   "source": [
    "#1304 讀取檔案\n",
    "import pandas as pd #數據分析模組，1-5有教學\n",
    "#把 pandas 縮寫成 pd\n",
    "#pd.read_csv 使用pd模組內的 \".\" read_csv功能(其實就是一隻程式)\n",
    "df = pd.read_csv(\"test.csv\")"
   ]
  },
  {
   "cell_type": "markdown",
   "metadata": {
    "colab_type": "text",
    "id": "c0_unhkqHtyO"
   },
   "source": [
    "### 🐞錯誤不可怕，錯誤中學習\n",
    "## ***FileNotFoundError: [Errno 2] No such file or directory:r*** 找不到檔案"
   ]
  },
  {
   "cell_type": "code",
   "execution_count": 17,
   "metadata": {
    "colab": {
     "base_uri": "https://localhost:8080/",
     "height": 222
    },
    "colab_type": "code",
    "executionInfo": {
     "elapsed": 1371,
     "status": "ok",
     "timestamp": 1583558801114,
     "user": {
      "displayName": "94AI Just AI",
      "photoUrl": "https://lh3.googleusercontent.com/a-/AOh14GhCsKODnCW8m6xZA2AWzxuXAMo6pmFnu_fp8yMB=s64",
      "userId": "12056520848872672848"
     },
     "user_tz": -480
    },
    "id": "DDqG0fVtK9F_",
    "outputId": "ba3875c9-a834-4592-ecf0-0f6bc8ce494e"
   },
   "outputs": [
    {
     "data": {
      "text/html": [
       "<div>\n",
       "<style scoped>\n",
       "    .dataframe tbody tr th:only-of-type {\n",
       "        vertical-align: middle;\n",
       "    }\n",
       "\n",
       "    .dataframe tbody tr th {\n",
       "        vertical-align: top;\n",
       "    }\n",
       "\n",
       "    .dataframe thead th {\n",
       "        text-align: right;\n",
       "    }\n",
       "</style>\n",
       "<table border=\"1\" class=\"dataframe\">\n",
       "  <thead>\n",
       "    <tr style=\"text-align: right;\">\n",
       "      <th></th>\n",
       "      <th>id</th>\n",
       "      <th>date</th>\n",
       "      <th>store</th>\n",
       "      <th>item</th>\n",
       "    </tr>\n",
       "  </thead>\n",
       "  <tbody>\n",
       "    <tr>\n",
       "      <th>0</th>\n",
       "      <td>0</td>\n",
       "      <td>2018-01-01</td>\n",
       "      <td>1</td>\n",
       "      <td>1</td>\n",
       "    </tr>\n",
       "    <tr>\n",
       "      <th>1</th>\n",
       "      <td>1</td>\n",
       "      <td>2018-01-02</td>\n",
       "      <td>1</td>\n",
       "      <td>1</td>\n",
       "    </tr>\n",
       "    <tr>\n",
       "      <th>2</th>\n",
       "      <td>2</td>\n",
       "      <td>2018-01-03</td>\n",
       "      <td>1</td>\n",
       "      <td>1</td>\n",
       "    </tr>\n",
       "    <tr>\n",
       "      <th>3</th>\n",
       "      <td>3</td>\n",
       "      <td>2018-01-04</td>\n",
       "      <td>1</td>\n",
       "      <td>1</td>\n",
       "    </tr>\n",
       "    <tr>\n",
       "      <th>4</th>\n",
       "      <td>4</td>\n",
       "      <td>2018-01-05</td>\n",
       "      <td>1</td>\n",
       "      <td>1</td>\n",
       "    </tr>\n",
       "  </tbody>\n",
       "</table>\n",
       "</div>"
      ],
      "text/plain": [
       "   id        date  store  item\n",
       "0   0  2018-01-01      1     1\n",
       "1   1  2018-01-02      1     1\n",
       "2   2  2018-01-03      1     1\n",
       "3   3  2018-01-04      1     1\n",
       "4   4  2018-01-05      1     1"
      ]
     },
     "execution_count": 17,
     "metadata": {},
     "output_type": "execute_result"
    }
   ],
   "source": [
    "#1305 df就是試算表，顯示試算表內容\n",
    "df.head() # 預設顯示前5筆資料"
   ]
  },
  {
   "cell_type": "code",
   "execution_count": 19,
   "metadata": {},
   "outputs": [
    {
     "name": "stdout",
     "output_type": "stream",
     "text": [
      "Collecting openpyxl\n",
      "  Downloading openpyxl-3.0.5-py2.py3-none-any.whl (242 kB)\n",
      "\u001b[K     |████████████████████████████████| 242 kB 4.5 MB/s eta 0:00:01\n",
      "\u001b[?25hCollecting jdcal\n",
      "  Downloading jdcal-1.4.1-py2.py3-none-any.whl (9.5 kB)\n",
      "Collecting et-xmlfile\n",
      "  Downloading et_xmlfile-1.0.1.tar.gz (8.4 kB)\n",
      "Building wheels for collected packages: et-xmlfile\n",
      "  Building wheel for et-xmlfile (setup.py) ... \u001b[?25ldone\n",
      "\u001b[?25h  Created wheel for et-xmlfile: filename=et_xmlfile-1.0.1-py3-none-any.whl size=8915 sha256=13059b4e66c3d92e783f7714d78d2a92666a449ec0be5dcb96310090721739c8\n",
      "  Stored in directory: /home/jovyan/.cache/pip/wheels/e2/bd/55/048b4fd505716c4c298f42ee02dffd9496bb6d212b266c7f31\n",
      "Successfully built et-xmlfile\n",
      "Installing collected packages: jdcal, et-xmlfile, openpyxl\n",
      "Successfully installed et-xmlfile-1.0.1 jdcal-1.4.1 openpyxl-3.0.5\n",
      "Note: you may need to restart the kernel to use updated packages.\n"
     ]
    }
   ],
   "source": [
    "pip install openpyxl"
   ]
  },
  {
   "cell_type": "code",
   "execution_count": 20,
   "metadata": {
    "colab": {},
    "colab_type": "code",
    "id": "rjBHeoVfpv-y"
   },
   "outputs": [],
   "source": [
    "#1306 df存成Excel檔\n",
    "df.to_excel('excel_output.xlsx')\n",
    "#注意相同檔名會覆蓋，不會詢問"
   ]
  },
  {
   "cell_type": "markdown",
   "metadata": {
    "colab_type": "text",
    "id": "GRQbw9XGdKAj"
   },
   "source": [
    "### 使用python檔案下載"
   ]
  },
  {
   "cell_type": "code",
   "execution_count": 23,
   "metadata": {},
   "outputs": [
    {
     "name": "stdout",
     "output_type": "stream",
     "text": [
      "Collecting google.colab\n",
      "  Downloading google-colab-1.0.0.tar.gz (72 kB)\n",
      "\u001b[K     |████████████████████████████████| 72 kB 1.1 MB/s eta 0:00:011\n",
      "\u001b[?25hCollecting google-auth~=1.4.0\n",
      "  Downloading google_auth-1.4.2-py2.py3-none-any.whl (64 kB)\n",
      "\u001b[K     |████████████████████████████████| 64 kB 2.9 MB/s  eta 0:00:01\n",
      "\u001b[?25hCollecting ipykernel~=4.6.0\n",
      "  Downloading ipykernel-4.6.1-py3-none-any.whl (104 kB)\n",
      "\u001b[K     |████████████████████████████████| 104 kB 7.9 MB/s eta 0:00:01\n",
      "\u001b[?25hCollecting ipython~=5.5.0\n",
      "  Downloading ipython-5.5.0-py3-none-any.whl (758 kB)\n",
      "\u001b[K     |████████████████████████████████| 758 kB 6.7 MB/s eta 0:00:01\n",
      "\u001b[?25hCollecting notebook~=5.2.0\n",
      "  Downloading notebook-5.2.2-py2.py3-none-any.whl (8.0 MB)\n",
      "\u001b[K     |████████████████████████████████| 8.0 MB 13.6 MB/s eta 0:00:01\n",
      "\u001b[?25hCollecting six~=1.12.0\n",
      "  Downloading six-1.12.0-py2.py3-none-any.whl (10 kB)\n",
      "Collecting pandas~=0.24.0\n",
      "  Downloading pandas-0.24.2-cp37-cp37m-manylinux1_x86_64.whl (10.1 MB)\n",
      "\u001b[K     |████████████████████████████████| 10.1 MB 67.8 MB/s eta 0:00:01\n",
      "\u001b[?25hCollecting portpicker~=1.2.0\n",
      "  Downloading portpicker-1.2.0.tar.gz (17 kB)\n",
      "Collecting requests~=2.21.0\n",
      "  Downloading requests-2.21.0-py2.py3-none-any.whl (57 kB)\n",
      "\u001b[K     |████████████████████████████████| 57 kB 6.3 MB/s  eta 0:00:01\n",
      "\u001b[?25hCollecting tornado~=4.5.0\n",
      "  Downloading tornado-4.5.3.tar.gz (484 kB)\n",
      "\u001b[K     |████████████████████████████████| 484 kB 43.8 MB/s eta 0:00:01\n",
      "\u001b[?25hCollecting rsa>=3.1.4\n",
      "  Downloading rsa-4.6-py3-none-any.whl (47 kB)\n",
      "\u001b[K     |████████████████████████████████| 47 kB 5.5 MB/s  eta 0:00:01\n",
      "\u001b[?25hCollecting pyasn1-modules>=0.2.1\n",
      "  Downloading pyasn1_modules-0.2.8-py2.py3-none-any.whl (155 kB)\n",
      "\u001b[K     |████████████████████████████████| 155 kB 36.8 MB/s eta 0:00:01\n",
      "\u001b[?25hCollecting cachetools>=2.0.0\n",
      "  Downloading cachetools-4.2.0-py3-none-any.whl (12 kB)\n",
      "Requirement already satisfied: traitlets>=4.1.0 in /srv/conda/envs/notebook/lib/python3.7/site-packages (from ipykernel~=4.6.0->google.colab) (4.3.3)\n",
      "Requirement already satisfied: jupyter-client in /srv/conda/envs/notebook/lib/python3.7/site-packages (from ipykernel~=4.6.0->google.colab) (6.1.6)\n",
      "Requirement already satisfied: pexpect; sys_platform != \"win32\" in /srv/conda/envs/notebook/lib/python3.7/site-packages (from ipython~=5.5.0->google.colab) (4.8.0)\n",
      "Collecting simplegeneric>0.8\n",
      "  Downloading simplegeneric-0.8.1.zip (12 kB)\n",
      "Collecting prompt-toolkit<2.0.0,>=1.0.4\n",
      "  Downloading prompt_toolkit-1.0.18-py3-none-any.whl (245 kB)\n",
      "\u001b[K     |████████████████████████████████| 245 kB 31.4 MB/s eta 0:00:01\n",
      "\u001b[?25hRequirement already satisfied: pygments in /srv/conda/envs/notebook/lib/python3.7/site-packages (from ipython~=5.5.0->google.colab) (2.6.1)\n",
      "Requirement already satisfied: setuptools>=18.5 in /srv/conda/envs/notebook/lib/python3.7/site-packages (from ipython~=5.5.0->google.colab) (49.2.0.post20200712)\n",
      "Requirement already satisfied: pickleshare in /srv/conda/envs/notebook/lib/python3.7/site-packages (from ipython~=5.5.0->google.colab) (0.7.5)\n",
      "Requirement already satisfied: decorator in /srv/conda/envs/notebook/lib/python3.7/site-packages (from ipython~=5.5.0->google.colab) (4.4.2)\n",
      "Requirement already satisfied: jinja2 in /srv/conda/envs/notebook/lib/python3.7/site-packages (from notebook~=5.2.0->google.colab) (2.11.2)\n",
      "Requirement already satisfied: nbconvert in /srv/conda/envs/notebook/lib/python3.7/site-packages (from notebook~=5.2.0->google.colab) (5.6.1)\n",
      "Requirement already satisfied: ipython-genutils in /srv/conda/envs/notebook/lib/python3.7/site-packages (from notebook~=5.2.0->google.colab) (0.2.0)\n",
      "Requirement already satisfied: jupyter-core in /srv/conda/envs/notebook/lib/python3.7/site-packages (from notebook~=5.2.0->google.colab) (4.6.3)\n",
      "Requirement already satisfied: terminado>=0.3.3; sys_platform != \"win32\" in /srv/conda/envs/notebook/lib/python3.7/site-packages (from notebook~=5.2.0->google.colab) (0.8.3)\n",
      "Requirement already satisfied: nbformat in /srv/conda/envs/notebook/lib/python3.7/site-packages (from notebook~=5.2.0->google.colab) (5.0.7)\n",
      "Requirement already satisfied: python-dateutil>=2.5.0 in /srv/conda/envs/notebook/lib/python3.7/site-packages (from pandas~=0.24.0->google.colab) (2.8.1)\n",
      "Requirement already satisfied: pytz>=2011k in /srv/conda/envs/notebook/lib/python3.7/site-packages (from pandas~=0.24.0->google.colab) (2020.4)\n",
      "Requirement already satisfied: numpy>=1.12.0 in /srv/conda/envs/notebook/lib/python3.7/site-packages (from pandas~=0.24.0->google.colab) (1.19.4)\n",
      "Requirement already satisfied: certifi>=2017.4.17 in /srv/conda/envs/notebook/lib/python3.7/site-packages (from requests~=2.21.0->google.colab) (2020.6.20)\n",
      "Requirement already satisfied: chardet<3.1.0,>=3.0.2 in /srv/conda/envs/notebook/lib/python3.7/site-packages (from requests~=2.21.0->google.colab) (3.0.4)\n",
      "Collecting idna<2.9,>=2.5\n",
      "  Downloading idna-2.8-py2.py3-none-any.whl (58 kB)\n",
      "\u001b[K     |████████████████████████████████| 58 kB 6.3 MB/s  eta 0:00:01\n",
      "\u001b[?25hCollecting urllib3<1.25,>=1.21.1\n",
      "  Downloading urllib3-1.24.3-py2.py3-none-any.whl (118 kB)\n",
      "\u001b[K     |████████████████████████████████| 118 kB 41.5 MB/s eta 0:00:01\n",
      "\u001b[?25hCollecting pyasn1>=0.1.3\n",
      "  Downloading pyasn1-0.4.8-py2.py3-none-any.whl (77 kB)\n",
      "\u001b[K     |████████████████████████████████| 77 kB 7.7 MB/s  eta 0:00:01\n",
      "\u001b[?25hRequirement already satisfied: pyzmq>=13 in /srv/conda/envs/notebook/lib/python3.7/site-packages (from jupyter-client->ipykernel~=4.6.0->google.colab) (19.0.1)\n",
      "Requirement already satisfied: ptyprocess>=0.5 in /srv/conda/envs/notebook/lib/python3.7/site-packages (from pexpect; sys_platform != \"win32\"->ipython~=5.5.0->google.colab) (0.6.0)\n",
      "Requirement already satisfied: wcwidth in /srv/conda/envs/notebook/lib/python3.7/site-packages (from prompt-toolkit<2.0.0,>=1.0.4->ipython~=5.5.0->google.colab) (0.2.5)\n",
      "Requirement already satisfied: MarkupSafe>=0.23 in /srv/conda/envs/notebook/lib/python3.7/site-packages (from jinja2->notebook~=5.2.0->google.colab) (1.1.1)\n",
      "Requirement already satisfied: pandocfilters>=1.4.1 in /srv/conda/envs/notebook/lib/python3.7/site-packages (from nbconvert->notebook~=5.2.0->google.colab) (1.4.2)\n",
      "Requirement already satisfied: entrypoints>=0.2.2 in /srv/conda/envs/notebook/lib/python3.7/site-packages (from nbconvert->notebook~=5.2.0->google.colab) (0.3)\n",
      "Requirement already satisfied: bleach in /srv/conda/envs/notebook/lib/python3.7/site-packages (from nbconvert->notebook~=5.2.0->google.colab) (3.1.5)\n",
      "Requirement already satisfied: testpath in /srv/conda/envs/notebook/lib/python3.7/site-packages (from nbconvert->notebook~=5.2.0->google.colab) (0.4.4)\n",
      "Requirement already satisfied: defusedxml in /srv/conda/envs/notebook/lib/python3.7/site-packages (from nbconvert->notebook~=5.2.0->google.colab) (0.6.0)\n",
      "Requirement already satisfied: mistune<2,>=0.8.1 in /srv/conda/envs/notebook/lib/python3.7/site-packages (from nbconvert->notebook~=5.2.0->google.colab) (0.8.4)\n",
      "Requirement already satisfied: jsonschema!=2.5.0,>=2.4 in /srv/conda/envs/notebook/lib/python3.7/site-packages (from nbformat->notebook~=5.2.0->google.colab) (3.2.0)\n",
      "Requirement already satisfied: webencodings in /srv/conda/envs/notebook/lib/python3.7/site-packages (from bleach->nbconvert->notebook~=5.2.0->google.colab) (0.5.1)\n",
      "Requirement already satisfied: packaging in /srv/conda/envs/notebook/lib/python3.7/site-packages (from bleach->nbconvert->notebook~=5.2.0->google.colab) (20.4)\n",
      "Requirement already satisfied: importlib-metadata; python_version < \"3.8\" in /srv/conda/envs/notebook/lib/python3.7/site-packages (from jsonschema!=2.5.0,>=2.4->nbformat->notebook~=5.2.0->google.colab) (1.7.0)\n",
      "Requirement already satisfied: pyrsistent>=0.14.0 in /srv/conda/envs/notebook/lib/python3.7/site-packages (from jsonschema!=2.5.0,>=2.4->nbformat->notebook~=5.2.0->google.colab) (0.16.0)\n",
      "Requirement already satisfied: attrs>=17.4.0 in /srv/conda/envs/notebook/lib/python3.7/site-packages (from jsonschema!=2.5.0,>=2.4->nbformat->notebook~=5.2.0->google.colab) (19.3.0)\n",
      "Requirement already satisfied: pyparsing>=2.0.2 in /srv/conda/envs/notebook/lib/python3.7/site-packages (from packaging->bleach->nbconvert->notebook~=5.2.0->google.colab) (2.4.7)\n",
      "Requirement already satisfied: zipp>=0.5 in /srv/conda/envs/notebook/lib/python3.7/site-packages (from importlib-metadata; python_version < \"3.8\"->jsonschema!=2.5.0,>=2.4->nbformat->notebook~=5.2.0->google.colab) (3.1.0)\n"
     ]
    },
    {
     "name": "stdout",
     "output_type": "stream",
     "text": [
      "Building wheels for collected packages: google.colab, portpicker, tornado, simplegeneric\n",
      "  Building wheel for google.colab (setup.py) ... \u001b[?25ldone\n",
      "\u001b[?25h  Created wheel for google.colab: filename=google_colab-1.0.0-py2.py3-none-any.whl size=102289 sha256=35541bd77837103b7b54717e8c9fb15c45db74956a9c501139320c9cf6f23faa\n",
      "  Stored in directory: /home/jovyan/.cache/pip/wheels/f6/3b/58/f34ea9045a7c69bd5634978bf25ac60277e90997d9e6e74192\n",
      "  Building wheel for portpicker (setup.py) ... \u001b[?25ldone\n",
      "\u001b[?25h  Created wheel for portpicker: filename=portpicker-1.2.0-py3-none-any.whl size=13369 sha256=29164f2365e63b5d8fe257d33971c7ae01d6d54da118e9321961c308b68838fa\n",
      "  Stored in directory: /home/jovyan/.cache/pip/wheels/73/0c/f5/35977446e45e818e6b848be3d41e7f38298a5102f4dcda21c6\n",
      "  Building wheel for tornado (setup.py) ... \u001b[?25ldone\n",
      "\u001b[?25h  Created wheel for tornado: filename=tornado-4.5.3-cp37-cp37m-linux_x86_64.whl size=434106 sha256=aad01d202f6f0fa57b54b7a091d1b3752ee51bc33b1dbd5099ae516315f7cedf\n",
      "  Stored in directory: /home/jovyan/.cache/pip/wheels/a2/45/43/36ec7a893e16c1212a6b1505ded0a2d73cf8e863a0227c8e04\n",
      "  Building wheel for simplegeneric (setup.py) ... \u001b[?25ldone\n",
      "\u001b[?25h  Created wheel for simplegeneric: filename=simplegeneric-0.8.1-py3-none-any.whl size=5073 sha256=8c4e1737abb2dfc660296edea6da1beb37c8f1c5b85f98d5a5dc812b392479f3\n",
      "  Stored in directory: /home/jovyan/.cache/pip/wheels/90/de/df/f1324f4dd966636ab877b82d467acad38a0998b1c42ddb7288\n",
      "Successfully built google.colab portpicker tornado simplegeneric\n",
      "\u001b[31mERROR: jupyterhub 1.1.0 has requirement tornado>=5.0, but you'll have tornado 4.5.3 which is incompatible.\u001b[0m\n",
      "Installing collected packages: pyasn1, rsa, six, pyasn1-modules, cachetools, google-auth, tornado, simplegeneric, prompt-toolkit, ipython, ipykernel, notebook, pandas, portpicker, idna, urllib3, requests, google.colab\n",
      "  Attempting uninstall: six\n",
      "    Found existing installation: six 1.15.0\n",
      "    Uninstalling six-1.15.0:\n",
      "      Successfully uninstalled six-1.15.0\n",
      "  Attempting uninstall: tornado\n",
      "    Found existing installation: tornado 6.0.4\n",
      "    Uninstalling tornado-6.0.4:\n",
      "      Successfully uninstalled tornado-6.0.4\n",
      "  Attempting uninstall: prompt-toolkit\n",
      "    Found existing installation: prompt-toolkit 3.0.5\n",
      "    Uninstalling prompt-toolkit-3.0.5:\n",
      "      Successfully uninstalled prompt-toolkit-3.0.5\n",
      "  Attempting uninstall: ipython\n",
      "    Found existing installation: ipython 7.16.1\n",
      "    Uninstalling ipython-7.16.1:\n",
      "      Successfully uninstalled ipython-7.16.1\n",
      "  Attempting uninstall: ipykernel\n",
      "    Found existing installation: ipykernel 5.3.4\n",
      "    Uninstalling ipykernel-5.3.4:\n",
      "      Successfully uninstalled ipykernel-5.3.4\n",
      "  Attempting uninstall: notebook\n",
      "    Found existing installation: notebook 6.0.3\n",
      "    Uninstalling notebook-6.0.3:\n",
      "      Successfully uninstalled notebook-6.0.3\n",
      "  Attempting uninstall: pandas\n",
      "    Found existing installation: pandas 1.1.5\n",
      "    Uninstalling pandas-1.1.5:\n",
      "      Successfully uninstalled pandas-1.1.5\n",
      "  Attempting uninstall: idna\n",
      "    Found existing installation: idna 2.10\n",
      "    Uninstalling idna-2.10:\n",
      "      Successfully uninstalled idna-2.10\n",
      "  Attempting uninstall: urllib3\n",
      "    Found existing installation: urllib3 1.25.10\n",
      "    Uninstalling urllib3-1.25.10:\n",
      "      Successfully uninstalled urllib3-1.25.10\n",
      "  Attempting uninstall: requests\n",
      "    Found existing installation: requests 2.24.0\n",
      "    Uninstalling requests-2.24.0:\n",
      "      Successfully uninstalled requests-2.24.0\n",
      "Successfully installed cachetools-4.2.0 google-auth-1.4.2 google.colab idna-2.8 ipykernel-4.6.1 ipython-5.5.0 notebook-5.2.2 pandas-0.24.2 portpicker-1.2.0 prompt-toolkit-1.0.18 pyasn1-0.4.8 pyasn1-modules-0.2.8 requests-2.21.0 rsa-4.6 simplegeneric-0.8.1 six-1.12.0 tornado-4.5.3 urllib3-1.24.3\n",
      "Note: you may need to restart the kernel to use updated packages.\n"
     ]
    }
   ],
   "source": [
    "pip install google.colab"
   ]
  },
  {
   "cell_type": "code",
   "execution_count": 24,
   "metadata": {
    "colab": {},
    "colab_type": "code",
    "id": "kOgxH28EG-Ar"
   },
   "outputs": [
    {
     "name": "stderr",
     "output_type": "stream",
     "text": [
      "/srv/conda/envs/notebook/lib/python3.7/site-packages/IPython/utils/traitlets.py:5: UserWarning: IPython.utils.traitlets has moved to a top-level traitlets package.\n",
      "  warn(\"IPython.utils.traitlets has moved to a top-level traitlets package.\")\n"
     ]
    },
    {
     "ename": "KeyboardInterrupt",
     "evalue": "",
     "output_type": "error",
     "traceback": [
      "\u001b[0;31m---------------------------------------------------------------------------\u001b[0m",
      "\u001b[0;31mKeyboardInterrupt\u001b[0m                         Traceback (most recent call last)",
      "\u001b[0;32m<ipython-input-24-2f4caebb72b6>\u001b[0m in \u001b[0;36m<module>\u001b[0;34m\u001b[0m\n\u001b[1;32m      1\u001b[0m \u001b[0;31m#1307 匯入模組，有時瀏覽器會要允許多個檔案下載\u001b[0m\u001b[0;34m\u001b[0m\u001b[0;34m\u001b[0m\u001b[0;34m\u001b[0m\u001b[0m\n\u001b[1;32m      2\u001b[0m \u001b[0;32mfrom\u001b[0m \u001b[0mgoogle\u001b[0m\u001b[0;34m.\u001b[0m\u001b[0mcolab\u001b[0m \u001b[0;32mimport\u001b[0m \u001b[0mfiles\u001b[0m\u001b[0;34m\u001b[0m\u001b[0;34m\u001b[0m\u001b[0m\n\u001b[0;32m----> 3\u001b[0;31m \u001b[0mfiles\u001b[0m\u001b[0;34m.\u001b[0m\u001b[0mdownload\u001b[0m\u001b[0;34m(\u001b[0m\u001b[0;34m'test.csv'\u001b[0m\u001b[0;34m)\u001b[0m \u001b[0;31m#下載檔案\u001b[0m\u001b[0;34m\u001b[0m\u001b[0;34m\u001b[0m\u001b[0m\n\u001b[0m\u001b[1;32m      4\u001b[0m \u001b[0mfiles\u001b[0m\u001b[0;34m.\u001b[0m\u001b[0mdownload\u001b[0m\u001b[0;34m(\u001b[0m\u001b[0;34m'excel_output.xlsx'\u001b[0m\u001b[0;34m)\u001b[0m \u001b[0;31m#下載檔案\u001b[0m\u001b[0;34m\u001b[0m\u001b[0;34m\u001b[0m\u001b[0m\n",
      "\u001b[0;32m/srv/conda/envs/notebook/lib/python3.7/site-packages/google/colab/files.py\u001b[0m in \u001b[0;36mdownload\u001b[0;34m(filename)\u001b[0m\n\u001b[1;32m    176\u001b[0m       \u001b[0;34m'port'\u001b[0m\u001b[0;34m:\u001b[0m \u001b[0mport\u001b[0m\u001b[0;34m,\u001b[0m\u001b[0;34m\u001b[0m\u001b[0;34m\u001b[0m\u001b[0m\n\u001b[1;32m    177\u001b[0m       \u001b[0;34m'path'\u001b[0m\u001b[0;34m:\u001b[0m \u001b[0m_os\u001b[0m\u001b[0;34m.\u001b[0m\u001b[0mpath\u001b[0m\u001b[0;34m.\u001b[0m\u001b[0mabspath\u001b[0m\u001b[0;34m(\u001b[0m\u001b[0mfilename\u001b[0m\u001b[0;34m)\u001b[0m\u001b[0;34m,\u001b[0m\u001b[0;34m\u001b[0m\u001b[0;34m\u001b[0m\u001b[0m\n\u001b[0;32m--> 178\u001b[0;31m       \u001b[0;34m'name'\u001b[0m\u001b[0;34m:\u001b[0m \u001b[0m_os\u001b[0m\u001b[0;34m.\u001b[0m\u001b[0mpath\u001b[0m\u001b[0;34m.\u001b[0m\u001b[0mbasename\u001b[0m\u001b[0;34m(\u001b[0m\u001b[0mfilename\u001b[0m\u001b[0;34m)\u001b[0m\u001b[0;34m,\u001b[0m\u001b[0;34m\u001b[0m\u001b[0;34m\u001b[0m\u001b[0m\n\u001b[0m\u001b[1;32m    179\u001b[0m   })\n",
      "\u001b[0;32m/srv/conda/envs/notebook/lib/python3.7/site-packages/google/colab/output/_js.py\u001b[0m in \u001b[0;36meval_js\u001b[0;34m(script, ignore_result)\u001b[0m\n\u001b[1;32m     37\u001b[0m   \u001b[0;32mif\u001b[0m \u001b[0mignore_result\u001b[0m\u001b[0;34m:\u001b[0m\u001b[0;34m\u001b[0m\u001b[0;34m\u001b[0m\u001b[0m\n\u001b[1;32m     38\u001b[0m     \u001b[0;32mreturn\u001b[0m\u001b[0;34m\u001b[0m\u001b[0;34m\u001b[0m\u001b[0m\n\u001b[0;32m---> 39\u001b[0;31m   \u001b[0;32mreturn\u001b[0m \u001b[0m_message\u001b[0m\u001b[0;34m.\u001b[0m\u001b[0mread_reply_from_input\u001b[0m\u001b[0;34m(\u001b[0m\u001b[0mrequest_id\u001b[0m\u001b[0;34m)\u001b[0m\u001b[0;34m\u001b[0m\u001b[0;34m\u001b[0m\u001b[0m\n\u001b[0m\u001b[1;32m     40\u001b[0m \u001b[0;34m\u001b[0m\u001b[0m\n\u001b[1;32m     41\u001b[0m \u001b[0;34m\u001b[0m\u001b[0m\n",
      "\u001b[0;32m/srv/conda/envs/notebook/lib/python3.7/site-packages/google/colab/_message.py\u001b[0m in \u001b[0;36mread_reply_from_input\u001b[0;34m(message_id, timeout_sec)\u001b[0m\n\u001b[1;32m     99\u001b[0m     \u001b[0mreply\u001b[0m \u001b[0;34m=\u001b[0m \u001b[0m_read_next_input_message\u001b[0m\u001b[0;34m(\u001b[0m\u001b[0;34m)\u001b[0m\u001b[0;34m\u001b[0m\u001b[0;34m\u001b[0m\u001b[0m\n\u001b[1;32m    100\u001b[0m     \u001b[0;32mif\u001b[0m \u001b[0mreply\u001b[0m \u001b[0;34m==\u001b[0m \u001b[0m_NOT_READY\u001b[0m \u001b[0;32mor\u001b[0m \u001b[0;32mnot\u001b[0m \u001b[0misinstance\u001b[0m\u001b[0;34m(\u001b[0m\u001b[0mreply\u001b[0m\u001b[0;34m,\u001b[0m \u001b[0mdict\u001b[0m\u001b[0;34m)\u001b[0m\u001b[0;34m:\u001b[0m\u001b[0;34m\u001b[0m\u001b[0;34m\u001b[0m\u001b[0m\n\u001b[0;32m--> 101\u001b[0;31m       \u001b[0mtime\u001b[0m\u001b[0;34m.\u001b[0m\u001b[0msleep\u001b[0m\u001b[0;34m(\u001b[0m\u001b[0;36m0.025\u001b[0m\u001b[0;34m)\u001b[0m\u001b[0;34m\u001b[0m\u001b[0;34m\u001b[0m\u001b[0m\n\u001b[0m\u001b[1;32m    102\u001b[0m       \u001b[0;32mcontinue\u001b[0m\u001b[0;34m\u001b[0m\u001b[0;34m\u001b[0m\u001b[0m\n\u001b[1;32m    103\u001b[0m     if (reply.get('type') == 'colab_reply' and\n",
      "\u001b[0;31mKeyboardInterrupt\u001b[0m: "
     ]
    }
   ],
   "source": [
    "#1307 匯入模組，有時瀏覽器會要允許多個檔案下載 \n",
    "from google.colab import files\n",
    "files.download('test.csv') #下載檔案\n",
    "files.download('excel_output.xlsx') #下載檔案"
   ]
  },
  {
   "cell_type": "markdown",
   "metadata": {
    "colab_type": "text",
    "id": "9I_bvD3Yud81"
   },
   "source": [
    "### 使用 `Excel` 打開.csv檔案，csv就是試算表，檔案格式逗號分隔的資料"
   ]
  },
  {
   "cell_type": "code",
   "execution_count": 25,
   "metadata": {
    "colab": {
     "base_uri": "https://localhost:8080/",
     "height": 211
    },
    "colab_type": "code",
    "executionInfo": {
     "elapsed": 7114,
     "status": "ok",
     "timestamp": 1583559242418,
     "user": {
      "displayName": "94AI Just AI",
      "photoUrl": "https://lh3.googleusercontent.com/a-/AOh14GhCsKODnCW8m6xZA2AWzxuXAMo6pmFnu_fp8yMB=s64",
      "userId": "12056520848872672848"
     },
     "user_tz": -480
    },
    "id": "s54appfjvITc",
    "outputId": "6f7e2757-268c-438f-8879-31e615ae5aeb"
   },
   "outputs": [
    {
     "name": "stdout",
     "output_type": "stream",
     "text": [
      "id,date,store,item\r\n",
      "0,2018-01-01,1,1\r\n",
      "1,2018-01-02,1,1\r\n",
      "2,2018-01-03,1,1\r\n",
      "3,2018-01-04,1,1\r\n",
      "4,2018-01-05,1,1\r\n",
      "5,2018-01-06,1,1\r\n",
      "6,2018-01-07,1,1\r\n",
      "7,2018-01-08,1,1\r\n",
      "8,2018-01-09,1,1\r\n"
     ]
    }
   ],
   "source": [
    "#1308 csv檔案格式逗號分隔的資料，!head -n 10顯示文件前10行\n",
    "!head -n 10 test.csv"
   ]
  },
  {
   "cell_type": "markdown",
   "metadata": {
    "colab_type": "text",
    "id": "y5cjwzu6OmTu"
   },
   "source": [
    "### 練習2. 自己的電腦檔案(數據集)上傳到筆記本"
   ]
  },
  {
   "cell_type": "code",
   "execution_count": null,
   "metadata": {
    "colab": {
     "base_uri": "https://localhost:8080/",
     "height": 76,
     "resources": {
      "http://localhost:8080/nbextensions/google.colab/files.js": {
       "data": "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",
       "headers": [
        [
         "content-type",
         "application/javascript"
        ]
       ],
       "ok": true,
       "status": 200,
       "status_text": ""
      }
     }
    },
    "colab_type": "code",
    "executionInfo": {
     "elapsed": 22013,
     "status": "ok",
     "timestamp": 1583559275570,
     "user": {
      "displayName": "94AI Just AI",
      "photoUrl": "https://lh3.googleusercontent.com/a-/AOh14GhCsKODnCW8m6xZA2AWzxuXAMo6pmFnu_fp8yMB=s64",
      "userId": "12056520848872672848"
     },
     "user_tz": -480
    },
    "id": "3CbiH5AgNcxO",
    "outputId": "facf3244-94b8-4d37-e340-45daf1bfa669"
   },
   "outputs": [
    {
     "data": {
      "text/html": [
       "\n",
       "     <input type=\"file\" id=\"files-dccf37b6-9997-4458-9d42-4630b130f000\" name=\"files[]\" multiple disabled />\n",
       "     <output id=\"result-dccf37b6-9997-4458-9d42-4630b130f000\">\n",
       "      Upload widget is only available when the cell has been executed in the\n",
       "      current browser session. Please rerun this cell to enable.\n",
       "      </output>\n",
       "      <script src=\"/nbextensions/google.colab/files.js\"></script> "
      ],
      "text/plain": [
       "<IPython.core.display.HTML object>"
      ]
     },
     "metadata": {},
     "output_type": "display_data"
    }
   ],
   "source": [
    "#1309 上傳一個檔案\n",
    "from google.colab import files\n",
    "uploaded = files.upload()\n",
    "#Refresh查看"
   ]
  },
  {
   "cell_type": "markdown",
   "metadata": {
    "colab_type": "text",
    "id": "A1nki8R8we5I"
   },
   "source": [
    "## 1-3-3.python資料格式"
   ]
  },
  {
   "cell_type": "markdown",
   "metadata": {
    "colab_type": "text",
    "id": "0L1nF55x_QR_"
   },
   "source": [
    "### 列表 list 是python很重要的容器資料格式"
   ]
  },
  {
   "cell_type": "markdown",
   "metadata": {
    "colab_type": "text",
    "id": "B0vzgpc-ja5f"
   },
   "source": [
    "### 字串list "
   ]
  },
  {
   "cell_type": "code",
   "execution_count": 0,
   "metadata": {
    "colab": {
     "base_uri": "https://localhost:8080/",
     "height": 72
    },
    "colab_type": "code",
    "executionInfo": {
     "elapsed": 1420,
     "status": "ok",
     "timestamp": 1583559358232,
     "user": {
      "displayName": "94AI Just AI",
      "photoUrl": "https://lh3.googleusercontent.com/a-/AOh14GhCsKODnCW8m6xZA2AWzxuXAMo6pmFnu_fp8yMB=s64",
      "userId": "12056520848872672848"
     },
     "user_tz": -480
    },
    "id": "7jcCwy3DZscX",
    "outputId": "2be2ee35-24fd-4cc9-fb03-ef425ec72e78"
   },
   "outputs": [
    {
     "name": "stdout",
     "output_type": "stream",
     "text": [
      "<class 'list'>\n",
      "['監督式學習(Supervised learning)', '非監督式學習(Un-supervised learning)', '半監督式學習(Semi-supervised learning)', '強化學習(Reinforcement learning)', '自適應學習(Self learning)', '特徵學習(Feature learning)']\n"
     ]
    }
   ],
   "source": [
    "#1310 建立一個字串列表\n",
    "# 機器學習ML(Machine learning)的分支分類建成字串列表\n",
    "# https://en.wikipedia.org/wiki/Machine_learning#Approaches\n",
    "ML=['監督式學習(Supervised learning)',\n",
    "    '非監督式學習(Un-supervised learning)',\n",
    "    '半監督式學習(Semi-supervised learning)',\n",
    "    '強化學習(Reinforcement learning)',\n",
    "    '自適應學習(Self learning)',\n",
    "    '特徵學習(Feature learning)']\n",
    "print(type(ML))\n",
    "print(ML)"
   ]
  },
  {
   "cell_type": "markdown",
   "metadata": {
    "colab_type": "text",
    "id": "5-io5lPKibz_"
   },
   "source": [
    "### list元素操作，擷取部分list中的元素"
   ]
  },
  {
   "cell_type": "code",
   "execution_count": 0,
   "metadata": {
    "colab": {
     "base_uri": "https://localhost:8080/",
     "height": 35
    },
    "colab_type": "code",
    "executionInfo": {
     "elapsed": 1373,
     "status": "ok",
     "timestamp": 1583559387713,
     "user": {
      "displayName": "94AI Just AI",
      "photoUrl": "https://lh3.googleusercontent.com/a-/AOh14GhCsKODnCW8m6xZA2AWzxuXAMo6pmFnu_fp8yMB=s64",
      "userId": "12056520848872672848"
     },
     "user_tz": -480
    },
    "id": "kINt6RyfdpVU",
    "outputId": "0b0de28b-adbc-4f5d-f5c4-0aeb39e812f8"
   },
   "outputs": [
    {
     "name": "stdout",
     "output_type": "stream",
     "text": [
      "監督式學習(Supervised learning)\n"
     ]
    }
   ],
   "source": [
    "#1311 list元素操作 切片\n",
    "print(ML[0])      #為什麼1不是第一個"
   ]
  },
  {
   "cell_type": "code",
   "execution_count": 0,
   "metadata": {
    "colab": {
     "base_uri": "https://localhost:8080/",
     "height": 35
    },
    "colab_type": "code",
    "executionInfo": {
     "elapsed": 957,
     "status": "ok",
     "timestamp": 1583559392783,
     "user": {
      "displayName": "94AI Just AI",
      "photoUrl": "https://lh3.googleusercontent.com/a-/AOh14GhCsKODnCW8m6xZA2AWzxuXAMo6pmFnu_fp8yMB=s64",
      "userId": "12056520848872672848"
     },
     "user_tz": -480
    },
    "id": "BcOyFwo2ZoIE",
    "outputId": "27216ae7-008c-42da-da4b-3d911bca7b89"
   },
   "outputs": [
    {
     "name": "stdout",
     "output_type": "stream",
     "text": [
      "<class 'str'>\n"
     ]
    }
   ],
   "source": [
    "print(type(ML[1]))      #擷取後成為字串"
   ]
  },
  {
   "cell_type": "code",
   "execution_count": 0,
   "metadata": {
    "colab": {
     "base_uri": "https://localhost:8080/",
     "height": 55
    },
    "colab_type": "code",
    "executionInfo": {
     "elapsed": 982,
     "status": "ok",
     "timestamp": 1583559402393,
     "user": {
      "displayName": "94AI Just AI",
      "photoUrl": "https://lh3.googleusercontent.com/a-/AOh14GhCsKODnCW8m6xZA2AWzxuXAMo6pmFnu_fp8yMB=s64",
      "userId": "12056520848872672848"
     },
     "user_tz": -480
    },
    "id": "wagINK_jZn0G",
    "outputId": "4cce0257-ccf0-4050-dd93-b049e3f4eceb"
   },
   "outputs": [
    {
     "name": "stdout",
     "output_type": "stream",
     "text": [
      "['非監督式學習(Un-supervised learning)', '半監督式學習(Semi-supervised learning)', '強化學習(Reinforcement learning)', '自適應學習(Self learning)']\n"
     ]
    }
   ],
   "source": [
    "print(ML[1:5])    #去頭去尾取中段"
   ]
  },
  {
   "cell_type": "code",
   "execution_count": 0,
   "metadata": {
    "colab": {
     "base_uri": "https://localhost:8080/",
     "height": 35
    },
    "colab_type": "code",
    "executionInfo": {
     "elapsed": 865,
     "status": "ok",
     "timestamp": 1583559413603,
     "user": {
      "displayName": "94AI Just AI",
      "photoUrl": "https://lh3.googleusercontent.com/a-/AOh14GhCsKODnCW8m6xZA2AWzxuXAMo6pmFnu_fp8yMB=s64",
      "userId": "12056520848872672848"
     },
     "user_tz": -480
    },
    "id": "ZzNHB8uCZwnf",
    "outputId": "b6696154-61f8-487f-ace3-5c81860ddd2e"
   },
   "outputs": [
    {
     "name": "stdout",
     "output_type": "stream",
     "text": [
      "特徵學習(Feature learning)\n"
     ]
    }
   ],
   "source": [
    "print(ML[-1])     #最後一個"
   ]
  },
  {
   "cell_type": "code",
   "execution_count": 0,
   "metadata": {
    "colab": {
     "base_uri": "https://localhost:8080/",
     "height": 55
    },
    "colab_type": "code",
    "executionInfo": {
     "elapsed": 849,
     "status": "ok",
     "timestamp": 1583559427855,
     "user": {
      "displayName": "94AI Just AI",
      "photoUrl": "https://lh3.googleusercontent.com/a-/AOh14GhCsKODnCW8m6xZA2AWzxuXAMo6pmFnu_fp8yMB=s64",
      "userId": "12056520848872672848"
     },
     "user_tz": -480
    },
    "id": "cXSWYLkVZzq4",
    "outputId": "a6555614-6769-4a6c-b4f0-7de4c89767d4"
   },
   "outputs": [
    {
     "name": "stdout",
     "output_type": "stream",
     "text": [
      "['監督式學習(Supervised learning)', '非監督式學習(Un-supervised learning)', '半監督式學習(Semi-supervised learning)']\n"
     ]
    }
   ],
   "source": [
    "print(ML[:-3])     #省略起始索引就是從0開始"
   ]
  },
  {
   "cell_type": "markdown",
   "metadata": {
    "colab_type": "text",
    "id": "iYq3Yn65i2M3"
   },
   "source": [
    "### 列表索引值，從0開始"
   ]
  },
  {
   "cell_type": "code",
   "execution_count": 0,
   "metadata": {
    "colab": {
     "base_uri": "https://localhost:8080/",
     "height": 139
    },
    "colab_type": "code",
    "executionInfo": {
     "elapsed": 1071,
     "status": "ok",
     "timestamp": 1583559479358,
     "user": {
      "displayName": "94AI Just AI",
      "photoUrl": "https://lh3.googleusercontent.com/a-/AOh14GhCsKODnCW8m6xZA2AWzxuXAMo6pmFnu_fp8yMB=s64",
      "userId": "12056520848872672848"
     },
     "user_tz": -480
    },
    "id": "RhkDHWRBmJNT",
    "outputId": "e716c795-ab24-48de-d763-6b146de6c46a"
   },
   "outputs": [
    {
     "name": "stdout",
     "output_type": "stream",
     "text": [
      "監督式學習(Supervised learning)\n",
      "非監督式學習(Un-supervised learning)\n",
      "半監督式學習(Semi-supervised learning)\n",
      "強化學習(Reinforcement learning)\n",
      "自適應學習(Self learning)\n",
      "特徵學習(Feature learning)\n",
      "特徵學習(Feature learning)\n"
     ]
    }
   ],
   "source": [
    "#1312 顯示完整列表\n",
    "print(ML[0])\n",
    "print(ML[1])\n",
    "print(ML[2])\n",
    "print(ML[3])\n",
    "print(ML[4])\n",
    "print(ML[5])\n",
    "print(ML[6]) #IndexError: list index out of range"
   ]
  },
  {
   "cell_type": "markdown",
   "metadata": {
    "colab_type": "text",
    "id": "HJzS1JkTlt8m"
   },
   "source": [
    "### 🐞錯誤不可怕，錯誤中學習\n",
    "\n",
    "***IndexError***: list index out of range 索引超出範圍\n",
    "\n",
    "https://anenadic.github.io/2014-11-10-manchester/novice/python/07-errors.html\n"
   ]
  },
  {
   "cell_type": "markdown",
   "metadata": {
    "colab_type": "text",
    "id": "TvaZMOCXjNE2"
   },
   "source": [
    "### 流程控制 for迴圈\n",
    "### 🔔注意 1.迴圈下一行要Tab縮排空4格(2格)，2.要記得加:"
   ]
  },
  {
   "cell_type": "code",
   "execution_count": 0,
   "metadata": {
    "colab": {
     "base_uri": "https://localhost:8080/",
     "height": 156
    },
    "colab_type": "code",
    "executionInfo": {
     "elapsed": 12092,
     "status": "ok",
     "timestamp": 1583559579347,
     "user": {
      "displayName": "94AI Just AI",
      "photoUrl": "https://lh3.googleusercontent.com/a-/AOh14GhCsKODnCW8m6xZA2AWzxuXAMo6pmFnu_fp8yMB=s64",
      "userId": "12056520848872672848"
     },
     "user_tz": -480
    },
    "id": "OGDTMUUDd4IQ",
    "outputId": "4f9a2060-7827-42e8-d82e-18f68b82483a"
   },
   "outputs": [
    {
     "name": "stdout",
     "output_type": "stream",
     "text": [
      "7\n",
      "監督式學習(Supervised learning)\n",
      "非監督式學習(Un-supervised learning)\n",
      "半監督式學習(Semi-supervised learning)\n",
      "強化學習(Reinforcement learning)\n",
      "自適應學習(Self learning)\n",
      "特徵學習(Feature learning)\n",
      "深度學習(Deep learning)\n"
     ]
    }
   ],
   "source": [
    "#1313 使用for迴圈\n",
    "print(len(ML)) #len()列表元素數量\n",
    "for i in ML #使用迴圈(自動化) for 變數 in 列表:\n",
    "    print(i) #縮排 縮進 2或4空格 Tab"
   ]
  },
  {
   "cell_type": "code",
   "execution_count": 0,
   "metadata": {
    "colab": {},
    "colab_type": "code",
    "id": "J11F5o-KeP99"
   },
   "outputs": [],
   "source": [
    "#1314 list.append()增加元素\n",
    "ML.append('深度學習(Deep learning)')"
   ]
  },
  {
   "cell_type": "markdown",
   "metadata": {
    "colab_type": "text",
    "id": "_Cxw2j_cSlXl"
   },
   "source": [
    "### 建立數字List"
   ]
  },
  {
   "cell_type": "markdown",
   "metadata": {
    "colab_type": "text",
    "id": "jqaM93aWDj0-"
   },
   "source": [
    "### 使用迴圈(自動化) for 變數 in `range`範圍(起始,結束,間隔):"
   ]
  },
  {
   "cell_type": "markdown",
   "metadata": {
    "colab_type": "text",
    "id": "wnjaI7tkW3JR"
   },
   "source": [
    "\n",
    "### 練習3. 製作數字0-n的 python list"
   ]
  },
  {
   "cell_type": "code",
   "execution_count": 0,
   "metadata": {
    "colab": {
     "base_uri": "https://localhost:8080/",
     "height": 52
    },
    "colab_type": "code",
    "executionInfo": {
     "elapsed": 5715,
     "status": "ok",
     "timestamp": 1583559897922,
     "user": {
      "displayName": "94AI Just AI",
      "photoUrl": "https://lh3.googleusercontent.com/a-/AOh14GhCsKODnCW8m6xZA2AWzxuXAMo6pmFnu_fp8yMB=s64",
      "userId": "12056520848872672848"
     },
     "user_tz": -480
    },
    "id": "EwKiarHtsYQK",
    "outputId": "412c6d1e-5ed3-496c-b23d-ff53588b7dac"
   },
   "outputs": [
    {
     "name": "stdout",
     "output_type": "stream",
     "text": [
      "請輸入數字:11\n",
      "[0, 1, 2, 3, 4, 5, 6, 7, 8, 9, 10, 11]\n"
     ]
    }
   ],
   "source": [
    "#1315 input程式中輸入\n",
    "n = int(input('請輸入數字:'))  # 變數n從鍵盤得到輸入值 ，int()字串轉數字\n",
    "number1 = []  #要先定義list(not defined error)\n",
    "for i in range(0,n+1): #不含結束的數字\n",
    "    number2.append(i)\n",
    "print(number2)"
   ]
  },
  {
   "cell_type": "markdown",
   "metadata": {
    "colab_type": "text",
    "id": "u4-kHhljtOZ0"
   },
   "source": [
    "### 🐞錯誤中學習\n",
    "### SyntaxError: invalid syntax 少冒號:\n",
    "### IndentationError: expected an indented block 空格 縮進\n",
    "### ***NameError***: name 'number' is not defined"
   ]
  },
  {
   "cell_type": "markdown",
   "metadata": {
    "colab_type": "text",
    "id": "X0XJbteO2rdM"
   },
   "source": [
    "### 練習題4: 製作10~30之間奇數清單"
   ]
  },
  {
   "cell_type": "code",
   "execution_count": 0,
   "metadata": {
    "colab": {
     "base_uri": "https://localhost:8080/",
     "height": 35
    },
    "colab_type": "code",
    "executionInfo": {
     "elapsed": 1855,
     "status": "ok",
     "timestamp": 1583559949421,
     "user": {
      "displayName": "94AI Just AI",
      "photoUrl": "https://lh3.googleusercontent.com/a-/AOh14GhCsKODnCW8m6xZA2AWzxuXAMo6pmFnu_fp8yMB=s64",
      "userId": "12056520848872672848"
     },
     "user_tz": -480
    },
    "id": "pfRFNiDx3A0-",
    "outputId": "94640fd7-bb2d-4471-d089-c56c52702eda"
   },
   "outputs": [
    {
     "name": "stdout",
     "output_type": "stream",
     "text": [
      "[11, 13, 15, 17, 19, 21, 23, 25, 27, 29]\n"
     ]
    }
   ],
   "source": [
    "#1316\n",
    "odd = []  #要先定義list(not defined error)\n",
    "for i in range(11,30,2): #(起始,結束,間隔)\n",
    "    odd.append(i)\n",
    "print(odd)"
   ]
  },
  {
   "cell_type": "markdown",
   "metadata": {
    "colab_type": "text",
    "id": "Mwg7YcRg4QaF"
   },
   "source": [
    "### 練習題5: 製作50~30之間偶數清單"
   ]
  },
  {
   "cell_type": "code",
   "execution_count": 0,
   "metadata": {
    "colab": {
     "base_uri": "https://localhost:8080/",
     "height": 35
    },
    "colab_type": "code",
    "executionInfo": {
     "elapsed": 2022,
     "status": "ok",
     "timestamp": 1583559972773,
     "user": {
      "displayName": "94AI Just AI",
      "photoUrl": "https://lh3.googleusercontent.com/a-/AOh14GhCsKODnCW8m6xZA2AWzxuXAMo6pmFnu_fp8yMB=s64",
      "userId": "12056520848872672848"
     },
     "user_tz": -480
    },
    "id": "O17XtUD44ztN",
    "outputId": "15bd67eb-8d65-41c7-b33e-c35af34ef713"
   },
   "outputs": [
    {
     "name": "stdout",
     "output_type": "stream",
     "text": [
      "[50, 48, 46, 44, 42, 40, 38, 36, 34, 32, 30, 28, 26, 24, 22, 20, 18, 16, 14, 12, 10, 8, 6, 4]\n"
     ]
    }
   ],
   "source": [
    "#1319\n",
    "even = []  #要先定義list(not defined error)\n",
    "for i in range(50,2,-2): #間隔負數就是遞減\n",
    "    even.append(i)\n",
    "print(even)"
   ]
  },
  {
   "cell_type": "markdown",
   "metadata": {
    "colab_type": "text",
    "id": "7mLWpKxq-aYX"
   },
   "source": [
    "### 挑戰題: 求1~n之間被3整除的正整數清單"
   ]
  },
  {
   "cell_type": "code",
   "execution_count": 0,
   "metadata": {
    "colab": {
     "base_uri": "https://localhost:8080/",
     "height": 52
    },
    "colab_type": "code",
    "executionInfo": {
     "elapsed": 9062,
     "status": "ok",
     "timestamp": 1583560029093,
     "user": {
      "displayName": "94AI Just AI",
      "photoUrl": "https://lh3.googleusercontent.com/a-/AOh14GhCsKODnCW8m6xZA2AWzxuXAMo6pmFnu_fp8yMB=s64",
      "userId": "12056520848872672848"
     },
     "user_tz": -480
    },
    "id": "TXxa1ixaBIzM",
    "outputId": "cd21cf52-dd56-49ba-931d-388b414c80a7"
   },
   "outputs": [
    {
     "name": "stdout",
     "output_type": "stream",
     "text": [
      "請輸入數字:30\n",
      "[3, 6, 9, 12, 15, 18, 21, 24, 27, 30]\n"
     ]
    }
   ],
   "source": [
    "#1320\n",
    "n = int(input('請輸入數字:'))  # 得到輸入值 n，字串轉數字\n",
    "ans = []  #要先定義list(not defined error)\n",
    "for i in range(1, n+1): #結束不算 所以+1\n",
    "    if i % 3 == 0:  #if判斷 %求餘數(整除) ==等於判斷式  =賦予,指定,定義為\n",
    "        ans.append(i) #整除才加入清單\n",
    "print(ans)"
   ]
  },
  {
   "cell_type": "markdown",
   "metadata": {
    "colab_type": "text",
    "id": "QuukMluyFoDK"
   },
   "source": [
    "## Homework: 延伸學習 jupyter-notebook"
   ]
  },
  {
   "cell_type": "markdown",
   "metadata": {
    "colab_type": "text",
    "id": "jSRiSVBjZ5v3"
   },
   "source": [
    "### 官方教程`list`範例程式\n",
    "https://docs.python.org/zh-cn/3/tutorial/introduction.html#lists\n",
    "### jupyter-notebook 了解筆記本知識\n",
    "https://jupyter-notebook.readthedocs.io/en/stable/notebook.html"
   ]
  },
  {
   "cell_type": "markdown",
   "metadata": {
    "colab_type": "text",
    "id": "YqMtT_hcFyzt"
   },
   "source": [
    "## 1-3總結"
   ]
  },
  {
   "cell_type": "markdown",
   "metadata": {
    "colab_type": "text",
    "id": "NWEVx5beF-83"
   },
   "source": [
    "### 1.學到Jupyter+python的技術，不只可以在colab執行，技術是通用的\n",
    "### 2.學習環境之檔案管理，初學先使用資料夾的`絕對路徑`\n",
    "### 「絕對路徑」是唯一的位置，並不會隨著`現在目錄`的改變而改變\n",
    "### 舉例，`絕對路徑`:我住在:台中市-好學路-88號\n",
    "### 而`相對路徑`:我住在從`這裡`(`現在目錄`)直走50公尺，再右轉第三間\n",
    "### 3.python資料格式，列表(同義:串列、list)、for迴圈、if判斷多練習\n",
    "### 學好深度學習，就從`自己寫簡單的程式`開始\n"
   ]
  },
  {
   "cell_type": "markdown",
   "metadata": {
    "colab_type": "text",
    "id": "TncEKHp2LSTA"
   },
   "source": [
    "# NEXT: 1-4.資料下載與預處理實作"
   ]
  }
 ],
 "metadata": {
  "colab": {
   "collapsed_sections": [],
   "name": "1-3_資料格式與檔案處理實作.ipynb",
   "provenance": []
  },
  "kernelspec": {
   "display_name": "Python 3",
   "language": "python",
   "name": "python3"
  },
  "language_info": {
   "codemirror_mode": {
    "name": "ipython",
    "version": 3
   },
   "file_extension": ".py",
   "mimetype": "text/x-python",
   "name": "python",
   "nbconvert_exporter": "python",
   "pygments_lexer": "ipython3",
   "version": "3.7.8"
  }
 },
 "nbformat": 4,
 "nbformat_minor": 1
}
